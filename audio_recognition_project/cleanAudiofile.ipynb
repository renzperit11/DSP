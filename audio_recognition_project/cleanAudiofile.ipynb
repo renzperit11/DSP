{
  "nbformat": 4,
  "nbformat_minor": 0,
  "metadata": {
    "colab": {
      "provenance": [],
      "authorship_tag": "ABX9TyNYnUE7kd6XM6zb7hM6RNZA",
      "include_colab_link": true
    },
    "kernelspec": {
      "name": "python3",
      "display_name": "Python 3"
    },
    "language_info": {
      "name": "python"
    }
  },
  "cells": [
    {
      "cell_type": "markdown",
      "metadata": {
        "id": "view-in-github",
        "colab_type": "text"
      },
      "source": [
        "<a href=\"https://colab.research.google.com/github/renzperit11/DSP/blob/main/audio_recognition_project/cleanAudiofile.ipynb\" target=\"_parent\"><img src=\"https://colab.research.google.com/assets/colab-badge.svg\" alt=\"Open In Colab\"/></a>"
      ]
    },
    {
      "cell_type": "code",
      "source": [
        "import librosa\n",
        "\n",
        "# Load the audio file\n",
        "audio, sample_rate = librosa.load('ECE 100 (mp3cut.net).wav', sr=44100)\n",
        "\n",
        "# Get the number of samples\n",
        "num_samples = len(audio)\n",
        "\n",
        "print(f\"Number of samples: {num_samples}\")"
      ],
      "metadata": {
        "id": "YWBb0Pc_9x4F",
        "colab": {
          "base_uri": "https://localhost:8080/"
        },
        "outputId": "74c38e7d-007a-4786-e97a-aca65a2c9cdb"
      },
      "execution_count": null,
      "outputs": [
        {
          "output_type": "stream",
          "name": "stdout",
          "text": [
            "Number of samples: 35404\n"
          ]
        }
      ]
    },
    {
      "cell_type": "code",
      "source": [],
      "metadata": {
        "id": "3llqrxu6A0mU"
      },
      "execution_count": null,
      "outputs": []
    },
    {
      "cell_type": "code",
      "source": [
        "import librosa\n",
        "\n",
        "# Load the audio file\n",
        "audio, sample_rate = librosa.load('ECE 92 (mp3cut.net).mp3', sr=44100)\n",
        "\n",
        "# Get the number of samples\n",
        "num_samples = len(audio)\n",
        "\n",
        "print(f\"Number of samples: {num_samples}\")"
      ],
      "metadata": {
        "colab": {
          "base_uri": "https://localhost:8080/"
        },
        "id": "C7CZ6-rNBKbk",
        "outputId": "2c4de3cb-133f-471f-e70a-7dcca55f74e6"
      },
      "execution_count": null,
      "outputs": [
        {
          "output_type": "stream",
          "name": "stdout",
          "text": [
            "Number of samples: 44664\n"
          ]
        }
      ]
    },
    {
      "cell_type": "code",
      "source": [
        "import librosa\n",
        "import numpy as np\n",
        "import soundfile as sf\n",
        "\n",
        "'''If you need to clean multiple files you can loop this block'''\n",
        "audio, sample_rate=librosa.load('ECE 92 (mp3cut.net).mp3', sr = 44100)\n",
        "print( audio)"
      ],
      "metadata": {
        "colab": {
          "base_uri": "https://localhost:8080/"
        },
        "id": "VbvPZvZHDzB-",
        "outputId": "00497785-731c-44b9-a463-b175f0e11e87"
      },
      "execution_count": 12,
      "outputs": [
        {
          "output_type": "stream",
          "name": "stdout",
          "text": [
            "[ 4.8741640e-06  6.8711206e-06  8.2008264e-06 ... -5.9665848e-02\n",
            " -1.4429298e-01  0.0000000e+00]\n"
          ]
        }
      ]
    }
  ]
}
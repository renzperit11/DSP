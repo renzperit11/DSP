{
  "nbformat": 4,
  "nbformat_minor": 0,
  "metadata": {
    "colab": {
      "provenance": [],
      "authorship_tag": "ABX9TyOieRdpX7G2AkW+jigSoy89",
      "include_colab_link": true
    },
    "kernelspec": {
      "name": "python3",
      "display_name": "Python 3"
    },
    "language_info": {
      "name": "python"
    }
  },
  "cells": [
    {
      "cell_type": "markdown",
      "metadata": {
        "id": "view-in-github",
        "colab_type": "text"
      },
      "source": [
        "<a href=\"https://colab.research.google.com/github/renzperit11/DSP/blob/main/audio_recognition_project/audio_recognition_groupings.ipynb\" target=\"_parent\"><img src=\"https://colab.research.google.com/assets/colab-badge.svg\" alt=\"Open In Colab\"/></a>"
      ]
    },
    {
      "cell_type": "code",
      "execution_count": 1,
      "metadata": {
        "colab": {
          "base_uri": "https://localhost:8080/"
        },
        "id": "3e2ekC2dfW3q",
        "outputId": "4d8de3b7-9972-4b8c-e357-d652c2fb3e62"
      },
      "outputs": [
        {
          "output_type": "stream",
          "name": "stdout",
          "text": [
            "--2025-02-10 06:13:33--  https://github.com/AllenDowney/ThinkDSP/raw/master/code/thinkdsp.py\n",
            "Resolving github.com (github.com)... 140.82.113.4\n",
            "Connecting to github.com (github.com)|140.82.113.4|:443... connected.\n",
            "HTTP request sent, awaiting response... 302 Found\n",
            "Location: https://raw.githubusercontent.com/AllenDowney/ThinkDSP/master/code/thinkdsp.py [following]\n",
            "--2025-02-10 06:13:34--  https://raw.githubusercontent.com/AllenDowney/ThinkDSP/master/code/thinkdsp.py\n",
            "Resolving raw.githubusercontent.com (raw.githubusercontent.com)... 185.199.108.133, 185.199.110.133, 185.199.109.133, ...\n",
            "Connecting to raw.githubusercontent.com (raw.githubusercontent.com)|185.199.108.133|:443... connected.\n",
            "HTTP request sent, awaiting response... 200 OK\n",
            "Length: 48554 (47K) [text/plain]\n",
            "Saving to: ‘thinkdsp.py’\n",
            "\n",
            "thinkdsp.py         100%[===================>]  47.42K  --.-KB/s    in 0.001s  \n",
            "\n",
            "2025-02-10 06:13:34 (63.7 MB/s) - ‘thinkdsp.py’ saved [48554/48554]\n",
            "\n"
          ]
        }
      ],
      "source": [
        "# Get thinkdsp.py\n",
        "\n",
        "import os\n",
        "\n",
        "if not os.path.exists('thinkdsp.py'):\n",
        "    !wget https://github.com/AllenDowney/ThinkDSP/raw/master/code/thinkdsp.py"
      ]
    },
    {
      "cell_type": "code",
      "source": [
        "!git clone https://github.com/AllenDowney/ThinkDSP.git"
      ],
      "metadata": {
        "colab": {
          "base_uri": "https://localhost:8080/"
        },
        "id": "WUiucoxkfbuc",
        "outputId": "5c810702-accf-4ed0-a81e-a7947ee14b4f"
      },
      "execution_count": 2,
      "outputs": [
        {
          "output_type": "stream",
          "name": "stdout",
          "text": [
            "Cloning into 'ThinkDSP'...\n",
            "remote: Enumerating objects: 2666, done.\u001b[K\n",
            "remote: Counting objects: 100% (85/85), done.\u001b[K\n",
            "remote: Compressing objects: 100% (46/46), done.\u001b[K\n",
            "remote: Total 2666 (delta 58), reused 49 (delta 39), pack-reused 2581 (from 3)\u001b[K\n",
            "Receiving objects: 100% (2666/2666), 244.75 MiB | 11.92 MiB/s, done.\n",
            "Resolving deltas: 100% (1442/1442), done.\n",
            "Updating files: 100% (309/309), done.\n"
          ]
        }
      ]
    },
    {
      "cell_type": "code",
      "source": [
        "import numpy as np\n",
        "from sklearn import svm\n",
        "import os\n",
        "import librosa\n",
        "import pathlib\n",
        "\n",
        "def extract():\n",
        "    x = True\n",
        "    #path to directory of the csv files\n",
        "    directory = \"G:\\\\My Drive\\\\Academics\\\\AC_24-25_1\\\\ECE 4 - Signals, Spectra, Signal Processing\\\\audio_recognition\"\n",
        "    with os.scandir(directory) as entries:\n",
        "        for entry in entries:\n",
        "            if entry.is_file():\n",
        "                filepath = entry.path\n",
        "                features = np.loadtxt(filepath,\n",
        "                                 delimiter=\",\", dtype=float)\n",
        "\n",
        "                filename = filepath.split('\\\\')\n",
        "                student = filename[6].split('.')[0]\n",
        "                if x:\n",
        "                    all_features = features\n",
        "                    all_class = np.full((100, 1), student)\n",
        "                    x = False\n",
        "                else:\n",
        "                    for i in features:\n",
        "                        all_features = np.append(all_features, [i], axis=0)\n",
        "                        all_class = np.append(all_class, student)\n",
        "    return all_features, all_class\n",
        "\n",
        "\n",
        "if name == 'main':\n",
        "    train_features, train_class = extract()\n",
        "    audio_classifier = svm.LinearSVC()\n",
        "    audio_classifier.fit(train_features, train_class)\n",
        "\n",
        "\n",
        "    #Cropping Activity\n",
        "\n",
        "    #path to the fresh sample file\n",
        "    path_to_audio = \"temporary.wav\"\n",
        "    audio, sample_rate = librosa.load(path_to_audio, sr=44100)\n",
        "    first_positive_index = np.where(audio > 0.12)[0]\n",
        "    # Check if there's a positive sample\n",
        "    if first_positive_index.size > 0:\n",
        "        # Crop the audio from the first positive sample to 44100 samples\n",
        "        start_index = first_positive_index[0]\n",
        "        cropped_audio = audio[start_index:start_index + 44100]\n",
        "        # Ensure we don't exceed the array length\n",
        "        if len(cropped_audio) < 44100:\n",
        "            print(\"Not enough samples to crop to 44100.\")\n",
        "        else:\n",
        "            # Write the cropped audio to a new file\n",
        "            sf.write(path_to_audio, cropped_audio, sample_rate, subtype='PCM_24')\n",
        "    else:\n",
        "        print(\"No positive samples found in the audio.\")\n",
        "\n",
        "\n",
        "    #CSV Activity\n",
        "    total_coeffs = 1300\n",
        "    n_mfcc = 13\n",
        "    y, sr = librosa.load(path_to_audio, sr=None)\n",
        "    mfcc = librosa.feature.mfcc(y=y, sr=sr, n_mfcc=n_mfcc)\n",
        "    mfcc_flat = mfcc.T.flatten()[:total_coeffs]\n",
        "    if len(mfcc_flat) < total_coeffs:\n",
        "        mfcc_flat = np.pad(mfcc_flat, (0, total_coeffs - len(mfcc_flat)), mode='constant')\n",
        "\n",
        "\n",
        "\n",
        "    student_name = audio_classifier.predict([mfcc_flat])\n",
        "    print(student_name)"
      ],
      "metadata": {
        "colab": {
          "base_uri": "https://localhost:8080/",
          "height": 211
        },
        "id": "IgcsOdjyfdjl",
        "outputId": "f01f1d25-fa63-40b4-abd0-9a8868e2bb06"
      },
      "execution_count": 3,
      "outputs": [
        {
          "output_type": "error",
          "ename": "NameError",
          "evalue": "name 'name' is not defined",
          "traceback": [
            "\u001b[0;31m---------------------------------------------------------------------------\u001b[0m",
            "\u001b[0;31mNameError\u001b[0m                                 Traceback (most recent call last)",
            "\u001b[0;32m<ipython-input-3-9d6698ee1cf7>\u001b[0m in \u001b[0;36m<cell line: 0>\u001b[0;34m()\u001b[0m\n\u001b[1;32m     29\u001b[0m \u001b[0;34m\u001b[0m\u001b[0m\n\u001b[1;32m     30\u001b[0m \u001b[0;34m\u001b[0m\u001b[0m\n\u001b[0;32m---> 31\u001b[0;31m \u001b[0;32mif\u001b[0m \u001b[0mname\u001b[0m \u001b[0;34m==\u001b[0m \u001b[0;34m'main'\u001b[0m\u001b[0;34m:\u001b[0m\u001b[0;34m\u001b[0m\u001b[0;34m\u001b[0m\u001b[0m\n\u001b[0m\u001b[1;32m     32\u001b[0m     \u001b[0mtrain_features\u001b[0m\u001b[0;34m,\u001b[0m \u001b[0mtrain_class\u001b[0m \u001b[0;34m=\u001b[0m \u001b[0mextract\u001b[0m\u001b[0;34m(\u001b[0m\u001b[0;34m)\u001b[0m\u001b[0;34m\u001b[0m\u001b[0;34m\u001b[0m\u001b[0m\n\u001b[1;32m     33\u001b[0m     \u001b[0maudio_classifier\u001b[0m \u001b[0;34m=\u001b[0m \u001b[0msvm\u001b[0m\u001b[0;34m.\u001b[0m\u001b[0mLinearSVC\u001b[0m\u001b[0;34m(\u001b[0m\u001b[0;34m)\u001b[0m\u001b[0;34m\u001b[0m\u001b[0;34m\u001b[0m\u001b[0m\n",
            "\u001b[0;31mNameError\u001b[0m: name 'name' is not defined"
          ]
        }
      ]
    }
  ]
}